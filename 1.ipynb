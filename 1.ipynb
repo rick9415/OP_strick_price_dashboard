{
 "cells": [
  {
   "cell_type": "code",
   "execution_count": 67,
   "metadata": {},
   "outputs": [
    {
     "name": "stderr",
     "output_type": "stream",
     "text": [
      "/var/folders/wk/w3kvtry51xx178m0gskwb1lw0000gn/T/ipykernel_33253/935640866.py:7: SettingWithCopyWarning:\n",
      "\n",
      "\n",
      "A value is trying to be set on a copy of a slice from a DataFrame\n",
      "\n",
      "See the caveats in the documentation: https://pandas.pydata.org/pandas-docs/stable/user_guide/indexing.html#returning-a-view-versus-a-copy\n",
      "\n",
      "/var/folders/wk/w3kvtry51xx178m0gskwb1lw0000gn/T/ipykernel_33253/935640866.py:8: SettingWithCopyWarning:\n",
      "\n",
      "\n",
      "A value is trying to be set on a copy of a slice from a DataFrame\n",
      "\n",
      "See the caveats in the documentation: https://pandas.pydata.org/pandas-docs/stable/user_guide/indexing.html#returning-a-view-versus-a-copy\n",
      "\n"
     ]
    }
   ],
   "source": [
    "import pandas as pd\n",
    "import time \n",
    "df = pd.read_csv(\"OP_sum_2023-10-06 1104.csv\")\n",
    "# a = {\"17000\":1000}\n",
    "# a = {\"16400\":\"271.5\",\"16450\":\"229.5\",\"16500\":\"192.0\",\"16600\":\"160.5\",\"16550\":\"140.0\"}\n",
    "df.columns\n",
    "df[\"time\"][:455] = \"2023-10-06 \" +df[\"time\"][:455]\n",
    "df[\"time\"][455:] = \"2023-10-07 \" +df[\"time\"][455:]\n",
    "df.to_csv(\"OP_sum_2023-10-06 1104_final.csv\")"
   ]
  },
  {
   "cell_type": "code",
   "execution_count": 69,
   "metadata": {},
   "outputs": [
    {
     "data": {
      "text/plain": [
       "Index(['time', '16400', '16450', '16500', '16550', '16600'], dtype='object')"
      ]
     },
     "execution_count": 69,
     "metadata": {},
     "output_type": "execute_result"
    }
   ],
   "source": [
    "\n",
    "df = pd.read_csv(\"OP_sum_2023-10-06 1104_final.csv\",index_col=0)\n",
    "df.columns"
   ]
  },
  {
   "cell_type": "code",
   "execution_count": null,
   "metadata": {},
   "outputs": [],
   "source": []
  }
 ],
 "metadata": {
  "kernelspec": {
   "display_name": "Python 3",
   "language": "python",
   "name": "python3"
  },
  "language_info": {
   "codemirror_mode": {
    "name": "ipython",
    "version": 3
   },
   "file_extension": ".py",
   "mimetype": "text/x-python",
   "name": "python",
   "nbconvert_exporter": "python",
   "pygments_lexer": "ipython3",
   "version": "3.11.4"
  },
  "orig_nbformat": 4
 },
 "nbformat": 4,
 "nbformat_minor": 2
}
